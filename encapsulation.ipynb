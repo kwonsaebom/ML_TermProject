{
 "cells": [
  {
   "cell_type": "code",
   "execution_count": 2,
   "id": "ec245786",
   "metadata": {},
   "outputs": [],
   "source": [
    "import pandas as pd\n",
    "import numpy as np\n",
    "from sklearn.feature_extraction.text import CountVectorizer\n",
    "from sklearn.neighbors import NearestNeighbors\n",
    "import warnings\n",
    "\n",
    "class MovieRecommender:\n",
    "    def __init__(self, movies_file, ratings_file):\n",
    "        warnings.filterwarnings('ignore')\n",
    "        self.movies_df = pd.read_csv(movies_file)\n",
    "        self.ratings_df = pd.read_csv(ratings_file)\n",
    "        self.process_data()\n",
    "\n",
    "    def process_data(self):\n",
    "        self.movies_df['genres'] = self.movies_df['genres'].apply(lambda x: ' '.join(eval(x)))\n",
    "        cv = CountVectorizer()\n",
    "        genres_one_hot = cv.fit_transform(self.movies_df['genres'])\n",
    "        self.genres_df = pd.DataFrame(genres_one_hot.toarray(), columns=cv.get_feature_names_out())\n",
    "\n",
    "        common_movie_ids = set(self.movies_df['id']).intersection(set(self.ratings_df['movieId']))\n",
    "        self.filtered_movies_df = self.movies_df[self.movies_df['id'].isin(common_movie_ids)]\n",
    "        self.filtered_ratings_df = self.ratings_df[self.ratings_df['movieId'].isin(common_movie_ids)]\n",
    "\n",
    "        filtered_ratings_mean_count = self.filtered_ratings_df.groupby('movieId').agg({'rating': ['mean', 'count']})\n",
    "        filtered_ratings_mean_count.columns = ['rating_mean', 'rating_count']\n",
    "\n",
    "        self.filtered_movies_ratings_merged = pd.merge(self.filtered_movies_df, filtered_ratings_mean_count, left_on='id', right_index=True, how='left')\n",
    "        self.nbrs_filtered = NearestNeighbors(n_neighbors=10, metric='cosine').fit(self.genres_df.loc[self.filtered_movies_df.index])\n",
    "\n",
    "    def get_recommendations_for_movie(self, movie_title):\n",
    "        movie_idx = self.filtered_movies_df[self.filtered_movies_df['title'] == movie_title].index[0]\n",
    "        distances, indices = self.nbrs_filtered.kneighbors([self.genres_df.iloc[movie_idx]])\n",
    "        return self.filtered_movies_ratings_merged.iloc[indices[0]][['title', 'id', 'rating_mean', 'rating_count']]\n",
    "\n",
    "    def generate_recommendations(self, user_id, n_recommendations=10):\n",
    "        return self.filtered_movies_df.sample(n_recommendations)['id'].tolist()\n",
    "\n",
    "    def evaluate(self):\n",
    "        preferred_movies = self.ratings_df[self.ratings_df['rating'] >= 4].groupby('userId')['movieId'].apply(list).to_dict()\n",
    "        user_recommendations = {user: self.generate_recommendations(user) for user in preferred_movies.keys()}\n",
    "        return self.calculate_evaluation_metrics(user_recommendations, preferred_movies)\n",
    "\n",
    "    def calculate_evaluation_metrics(self, user_recommendations, preferred_movies):\n",
    "        precisions, recalls, f1_scores = [], [], []\n",
    "        for user, preferred in preferred_movies.items():\n",
    "            recommended = user_recommendations.get(user, [])\n",
    "            tp = len(set(preferred) & set(recommended))\n",
    "            fp = len(set(recommended) - set(preferred))\n",
    "            fn = len(set(preferred) - set(recommended))\n",
    "\n",
    "            precision = tp / (tp + fp) if tp + fp > 0 else 0\n",
    "            recall = tp / (tp + fn) if tp + fn > 0 else 0\n",
    "            f1 = 2 * precision * recall / (precision + recall) if precision + recall > 0 else 0\n",
    "\n",
    "            precisions.append(precision)\n",
    "            recalls.append(recall)\n",
    "            f1_scores.append(f1)\n",
    "\n",
    "        return np.mean(precisions), np.mean(recalls), np.mean(f1_scores)\n",
    "\n"
   ]
  },
  {
   "cell_type": "code",
   "execution_count": 3,
   "id": "0fcdab21",
   "metadata": {},
   "outputs": [
    {
     "name": "stdout",
     "output_type": "stream",
     "text": [
      "Recommendations for 'The Dark Knight':\n",
      "                          title     id  rating_mean  rating_count\n",
      "12621           The Dark Knight    155     3.055556             9\n",
      "15142               Harry Brown  25941     4.000000             1\n",
      "7912   I'll Sleep When I'm Dead   3515     3.400000             5\n",
      "12351                    Hitman   1620     3.375000            20\n",
      "11895              The Contract   1441     3.375000            28\n",
      "12683              Street Kings   1266     3.885965            57\n",
      "4177                   Scarface    111     4.224576           118\n",
      "6124                  Dark Blue   4911     3.000000             3\n",
      "3992                Best Seller   4639     2.607143            14\n",
      "4787          Bangkok Dangerous   3173     2.940000            25\n",
      "Average Precision: 0.012088094055307173\n",
      "Average Recall: 0.0016643582479823464\n",
      "Average F1 Score: 0.0025937599331314768\n"
     ]
    }
   ],
   "source": [
    "\n",
    "# Example usage\n",
    "recommender = MovieRecommender(\"./ML_test/preprocessed_movies.csv\", \"./ratings_small.csv\")\n",
    "\n",
    "# Generate recommendations for 'The Dark Knight'\n",
    "dark_knight_recommendations = recommender.get_recommendations_for_movie('The Dark Knight')\n",
    "print(\"Recommendations for 'The Dark Knight':\")\n",
    "print(dark_knight_recommendations)\n",
    "\n",
    "# Evaluate system\n",
    "avg_precision, avg_recall, avg_f1_score = recommender.evaluate()\n",
    "print(f\"Average Precision: {avg_precision}\")\n",
    "print(f\"Average Recall: {avg_recall}\")\n",
    "print(f\"Average F1 Score: {avg_f1_score}\")"
   ]
  },
  {
   "cell_type": "code",
   "execution_count": null,
   "id": "77534851",
   "metadata": {},
   "outputs": [],
   "source": []
  }
 ],
 "metadata": {
  "kernelspec": {
   "display_name": "conda_tensorflow2_p310",
   "language": "python",
   "name": "conda_tensorflow2_p310"
  },
  "language_info": {
   "codemirror_mode": {
    "name": "ipython",
    "version": 3
   },
   "file_extension": ".py",
   "mimetype": "text/x-python",
   "name": "python",
   "nbconvert_exporter": "python",
   "pygments_lexer": "ipython3",
   "version": "3.10.13"
  }
 },
 "nbformat": 4,
 "nbformat_minor": 5
}
